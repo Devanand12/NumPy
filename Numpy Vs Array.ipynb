{
 "cells": [
  {
   "cell_type": "code",
   "execution_count": 11,
   "metadata": {},
   "outputs": [
    {
     "name": "stdout",
     "output_type": "stream",
     "text": [
      "168\n",
      "24\n"
     ]
    },
    {
     "data": {
      "text/plain": [
       "numpy.ndarray"
      ]
     },
     "execution_count": 11,
     "metadata": {},
     "output_type": "execute_result"
    }
   ],
   "source": [
    "import numpy as np\n",
    "import sys\n",
    "\n",
    "np.__version__\n",
    "#np.__git_revision__\n",
    "\n",
    "\n",
    "py_arr = [1,2,3,4,5,6]\n",
    "\n",
    "numpy_arr = np.array([1,2,3,4,5,6])\n",
    "print(sys.getsizeof(1)*len(py_arr))\n",
    "print(numpy_arr.itemsize*numpy_arr.size)\n",
    "type(numpy_arr)\n"
   ]
  },
  {
   "cell_type": "code",
   "execution_count": 7,
   "metadata": {},
   "outputs": [
    {
     "name": "stdout",
     "output_type": "stream",
     "text": [
      "138\n",
      "64\n"
     ]
    }
   ],
   "source": [
    "import numpy as np\n",
    "import sys\n",
    "\n",
    "py_arr = [\"Babu\",\"Manickam\"]\n",
    "numpy_arr = np.array([\"Babu\",\"Manickam\"])\n",
    "\n",
    "sizeof_py_arr = sys.getsizeof(\"Babu\") + sys.getsizeof(\"Manickam\") \n",
    "sizeof_numpy_arr = numpy_arr.itemsize * numpy_arr.size\n",
    "print(sizeof_py_arr)\n",
    "print(sizeof_numpy_arr)"
   ]
  }
 ],
 "metadata": {
  "kernelspec": {
   "display_name": "Python 3",
   "language": "python",
   "name": "python3"
  },
  "language_info": {
   "codemirror_mode": {
    "name": "ipython",
    "version": 3
   },
   "file_extension": ".py",
   "mimetype": "text/x-python",
   "name": "python",
   "nbconvert_exporter": "python",
   "pygments_lexer": "ipython3",
   "version": "3.7.4"
  }
 },
 "nbformat": 4,
 "nbformat_minor": 2
}
